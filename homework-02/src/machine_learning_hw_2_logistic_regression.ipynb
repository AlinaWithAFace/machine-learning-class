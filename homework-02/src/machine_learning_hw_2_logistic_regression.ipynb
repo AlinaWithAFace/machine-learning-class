{
  "nbformat": 4,
  "nbformat_minor": 0,
  "metadata": {
    "colab": {
      "name": "machine-learning-hw-2-logistic-regression.ipynb",
      "provenance": []
    },
    "kernelspec": {
      "name": "python3",
      "display_name": "Python 3"
    },
    "language_info": {
      "name": "python"
    }
  },
  "cells": [
    {
      "cell_type": "markdown",
      "metadata": {
        "id": "hbNxz0IylHvi"
      },
      "source": [
        "Implement the MCAP Logistic Regression algorithm with L2 regularization (see Sec 3.3 Mitchell’s new book chapter)(have uploaded to Canvas).\n",
        "\n",
        "Try different values of $\\lambda$.\n",
        "\n",
        "Divide the given training set into two sets using a 70/30 split (namely the first split has 70% of the examples and the second split has the remaining 30%).\n",
        "\n",
        "Learn parameters using the 70% split, treat the 30% data as validation data and use it to select a value for $\\lambda$.\n",
        "\n",
        "Then, use the chosen value of $\\lambda$ to learn parameters from the full training set and report accuracy on the test set.\n",
        "\n",
        "Use gradient ascent for learning the weights (you have to set the learning rate appropriately. Otherwise, your algorithm may diverge or take a long time to converge).\n",
        "\n",
        "Do not run gradient ascent until convergence; you should put a suitable hard limit on the number of iterations."
      ]
    },
    {
      "cell_type": "code",
      "metadata": {
        "id": "SUDvzAvSo_oh"
      },
      "source": [
        "import matplotlib.pyplot as plt\n",
        "import matplotlib.colors as cma\n",
        "import numpy as np\n",
        "from scipy.special import expit"
      ],
      "execution_count": 20,
      "outputs": []
    },
    {
      "cell_type": "code",
      "metadata": {
        "id": "rKjhBDkVlCYi"
      },
      "source": [
        "training_path=\"/content/drive/MyDrive/machine-learning-class/hw2/data/dataset 1/train\"\n",
        "test_path=\"/content/drive/MyDrive/machine-learning-class/hw2/data/dataset 1/test\""
      ],
      "execution_count": 21,
      "outputs": []
    },
    {
      "cell_type": "code",
      "metadata": {
        "id": "L7kgBamXxabF"
      },
      "source": [
        "learning_rate = 0.1\n",
        "max_epochs = 100\n",
        "regularization = \"l2\"\n",
        "c= 0.1\n",
        "tolerance=1e-4\n",
        "theta = 0"
      ],
      "execution_count": 26,
      "outputs": []
    },
    {
      "cell_type": "code",
      "metadata": {
        "id": "4WohgmnPxvjH"
      },
      "source": [
        "def fit(x,y):\n",
        "  theta=np.zeros(x.shape[1]+1)\n",
        "  x=np.concatenate((np.ones((x.shape[0],1)), x), axis=1)\n",
        "  for _ in range(max_epochs):\n",
        "    y_hat = sigmoid(dot(x,theta)) \n",
        "    error = y - y_hat\n",
        "    n = x.shape[1]\n",
        "    \n",
        "    if regularization is not None:\n",
        "      delta_gradient = learning_rate * ((c* dot(x.T, error)) + np.sum(theta))\n",
        "    else:\n",
        "      delta_gradient = learning_rate * dot(x.t, error)\n",
        "    \n",
        "    if np.all(abs(delta_gradient) >= tolerance):\n",
        "      theta -= delta_gradient / n\n",
        "    else:\n",
        "      break"
      ],
      "execution_count": 23,
      "outputs": []
    },
    {
      "cell_type": "code",
      "metadata": {
        "id": "weXTGLCc09DG"
      },
      "source": [
        "def predict_probability(x):\n",
        "  return sigmoid(np.dot(x, theta[1:]) + theta[0])"
      ],
      "execution_count": 24,
      "outputs": []
    },
    {
      "cell_type": "code",
      "metadata": {
        "id": "GWw8RN5x1QvA"
      },
      "source": [
        "def predict(x):\n",
        "  return np.round(predict_probability(x))\n",
        "  \n",
        "# print(predict(1))"
      ],
      "execution_count": 28,
      "outputs": []
    },
    {
      "cell_type": "code",
      "metadata": {
        "id": "quQfyzBUyTNq"
      },
      "source": [
        "def sigmoid(z):\n",
        "  return 1/(1+expit(-z))"
      ],
      "execution_count": null,
      "outputs": []
    },
    {
      "cell_type": "code",
      "metadata": {
        "id": "QIV9G5KH1cxN"
      },
      "source": [
        "def get_parameters():\n",
        "  try:\n",
        "    params = dict()\n",
        "    params['intercept'] = theta[0]\n",
        "    params['coef'] = theta[1:]\n",
        "    return params\n",
        "  except:\n",
        "    raise Exception('Fit the model first!')"
      ],
      "execution_count": null,
      "outputs": []
    }
  ]
}