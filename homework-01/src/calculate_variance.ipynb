{
 "cells": [
  {
   "cell_type": "code",
   "execution_count": null,
   "metadata": {},
   "outputs": [],
   "source": [
    "#The following functions computes the variance of dataset."
   ]
  },
  {
   "cell_type": "code",
   "execution_count": null,
   "metadata": {},
   "outputs": [],
   "source": [
    "#first I define a \"sum\" function\n",
    "\n",
    "def _sum(data):\n",
    "    sum = 0\n",
    "    for i in data:\n",
    "        sum = sum + i\n",
    "    return sum"
   ]
  },
  {
   "cell_type": "code",
   "execution_count": null,
   "metadata": {},
   "outputs": [],
   "source": [
    "#now I can compute the variance\n",
    "\n",
    "def calculate_variance(target_values):\n",
    "    values = list(target_values)\n",
    "    #elements,counts = #here we need a function that assigns to \"element\" the lists of our elements X_i\n",
    "                      #and to \"counts\" the pair [number of 0s in X_i, number of 1s in X_i]\n",
    "    counts = [values.count(0),values.count(1)]\n",
    "    #in the end I don't think we need the \"elements\" part, since everything is either 0 or 1\n",
    "    \n",
    "    variance_impurity = 0\n",
    "    sum_counts = _sum(counts)\n",
    "    for i in elements:\n",
    "        variance_impurity += (-counts[i]/sum_counts*(counts[i]/sum_counts))\n",
    "    return variance_impurity"
   ]
  }
 ],
 "metadata": {
  "kernelspec": {
   "display_name": "Python 3",
   "language": "python",
   "name": "python3"
  },
  "language_info": {
   "codemirror_mode": {
    "name": "ipython",
    "version": 3
   },
   "file_extension": ".py",
   "mimetype": "text/x-python",
   "name": "python",
   "nbconvert_exporter": "python",
   "pygments_lexer": "ipython3",
   "version": "3.6.7"
  }
 },
 "nbformat": 4,
 "nbformat_minor": 2
}
