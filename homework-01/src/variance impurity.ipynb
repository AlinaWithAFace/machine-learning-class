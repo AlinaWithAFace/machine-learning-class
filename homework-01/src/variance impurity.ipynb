{
 "cells": [
  {
   "cell_type": "code",
   "execution_count": null,
   "metadata": {},
   "outputs": [],
   "source": [
    "#this function compututes the variance impurity "
   ]
  },
  {
   "cell_type": "code",
   "execution_count": null,
   "metadata": {},
   "outputs": [],
   "source": [
    "def variance_impurity_gain(data, split_attribute_name, target_attribute_name):\n",
    "    \n",
    "    data_split = data.groupby(split_attribute_name)\n",
    "    aggregated_data = data_split.agg({target_attribute_name : [calculate_variance, lambda x: len(x)/(len(data.index) * 1.0)] })[target_attribute_name]\n",
    "    aggregated_data.columns = ['Variance', 'Observations']\n",
    "    weighted_variance_impurity = sum( aggregated_data['Variance'] * aggregated_data['Observations'] )\n",
    "    total_variance_impurity = calculate_variance(data[target_attribute_name])\n",
    "    variance_impurity_gain = total_variance_impurity - weighted_variance_impurity\n",
    "    return variance_impurity_gain"
   ]
  }
 ],
 "metadata": {
  "kernelspec": {
   "display_name": "Python 3",
   "language": "python",
   "name": "python3"
  },
  "language_info": {
   "codemirror_mode": {
    "name": "ipython",
    "version": 3
   },
   "file_extension": ".py",
   "mimetype": "text/x-python",
   "name": "python",
   "nbconvert_exporter": "python",
   "pygments_lexer": "ipython3",
   "version": "3.6.7"
  }
 },
 "nbformat": 4,
 "nbformat_minor": 2
}
